{
 "cells": [
  {
   "cell_type": "markdown",
   "metadata": {},
   "source": [
    "# Introducción a <strike>IPython</strike> Jupyter\n",
    "\n",
    "\n",
    "## ¿Que es Jupyter?\n",
    "\n",
    "Una de las características más útiles de Python es su intérprete interactivo. Esto permite el ensayo muy rápido de ideas. Sin embargo, el intérprete suministrado con la distribución estándar de Python es algo limitada para el uso interactivo extendida.\n",
    "\n",
    "El objetivo de IPython es crear un entorno completo para la computación interactiva y exploratorio. Para apoyar este objetivo, IPython tiene tres componentes principales:\n",
    "\n",
    "* Un terminal de Python interactiva mejorada.\n",
    "* Un modelo de comunicación de los dos procesos desacoplado, lo que permite que varios clientes se conectan a un núcleo de cálculo, más notablemente el portátil basado en la web\n",
    "* Una arquitectura de computación paralela interactiva.\n",
    "\n",
    "Jupyter (originalmente llamado IPython) fue desarrollado por Fernando Perez pensando en facilitar la reproducibilidad científica. Hoy en día cuenta con un gran número de colaboradores.\n",
    "\n",
    "## Corriendo Jupyter\n",
    "\n",
    "Existen tres formas de correr Jupyter:\n",
    "\n",
    "* Terminal\n",
    "```\n",
    "$ ipython\n",
    "```\n",
    "\n",
    "* Consola Qt\n",
    "```\n",
    "$ jupyter qtconsole\n",
    "```\n",
    "\n",
    "* Notebook\n",
    "```\n",
    "$ jupyter notebook\n",
    "```\n",
    "\n",
    "## Comenzemos"
   ]
  },
  {
   "cell_type": "code",
   "execution_count": 1,
   "metadata": {
    "collapsed": true
   },
   "outputs": [],
   "source": [
    "import numpy as np"
   ]
  },
  {
   "cell_type": "markdown",
   "metadata": {},
   "source": [
    "**Tab** nos completa o nos muestra las opciones (usa un mismo namespace para todo el notebook)"
   ]
  },
  {
   "cell_type": "code",
   "execution_count": 2,
   "metadata": {
    "collapsed": false
   },
   "outputs": [],
   "source": [
    "a = np.array([1, 2, 3])\n",
    "a."
   ]
  },
  {
   "cell_type": "markdown",
   "metadata": {},
   "source": [
    "**Shift-Tab** nos da la documentación de la función - método"
   ]
  },
  {
   "cell_type": "code",
   "execution_count": 3,
   "metadata": {
    "collapsed": false
   },
   "outputs": [],
   "source": [
    "np.array()"
   ]
  },
  {
   "cell_type": "markdown",
   "metadata": {},
   "source": [
    "## Magic\n",
    "\n",
    "Jupyter define las *magic* que son comando (generalmente comienzan con %) que nos permite, entre varias cosas, hacer uso de nuestro shell, correr código, medir tiempos, etc."
   ]
  },
  {
   "cell_type": "code",
   "execution_count": 4,
   "metadata": {
    "collapsed": false
   },
   "outputs": [
    {
     "name": "stdout",
     "output_type": "stream",
     "text": [
      "1000 loops, best of 3: 1.5 ms per loop\n"
     ]
    }
   ],
   "source": [
    "%%timeit \n",
    "\n",
    "a = 0\n",
    "for i in range(10000):\n",
    "    a += 1"
   ]
  },
  {
   "cell_type": "code",
   "execution_count": 5,
   "metadata": {
    "collapsed": false
   },
   "outputs": [
    {
     "data": {
      "text/plain": [
       "['Hands-On',\n",
       " 'imgs',\n",
       " 'introduccion_a_python.pdf',\n",
       " 'introduccion_a_python.sla',\n",
       " 'Introducción_IPython.ipynb']"
      ]
     },
     "execution_count": 5,
     "metadata": {},
     "output_type": "execute_result"
    }
   ],
   "source": [
    "!!ls"
   ]
  },
  {
   "cell_type": "markdown",
   "metadata": {},
   "source": [
    "Podemos correr coódigo R y capturar la salida como variables para Python. Se necesita el paquete [rpy2](https://rpy2.readthedocs.io/en/version_2.8.x/)"
   ]
  },
  {
   "cell_type": "markdown",
   "metadata": {},
   "source": [
    "## De IPython a Jupyter\n",
    "\n",
    "El cambio de nombre, vino por un gran cambio en el proyecto. La nueva versión del *notebook* nos permite cargar *kernels* de Julia, PYthon o R\n",
    "\n",
    "## Introduciendo texto\n",
    "\n",
    "Cambiando la celda de **codigo** a **markdown** podemos introducir texto, [link](https://ipython.org/), latex\n",
    "\n",
    "$$ a^{2} = b^{2} + c^{2} \\;\\;\\; a, b, c\\; \\exists\\; N $$\n",
    "\n",
    "Imagenes, videos, etc"
   ]
  },
  {
   "cell_type": "code",
   "execution_count": 9,
   "metadata": {
    "collapsed": false
   },
   "outputs": [
    {
     "data": {
      "image/jpeg": "[encoded data removed]",
      "text/html": [
       "\n",
       "        <iframe\n",
       "            width=\"400\"\n",
       "            height=\"300\"\n",
       "            src=\"https://www.youtube.com/embed/bxtLxUh03gc\"\n",
       "            frameborder=\"0\"\n",
       "            allowfullscreen\n",
       "        ></iframe>\n",
       "        "
      ],
      "text/plain": [
       "<IPython.lib.display.YouTubeVideo at 0x7f3f843d1f98>"
      ]
     },
     "execution_count": 9,
     "metadata": {},
     "output_type": "execute_result"
    }
   ],
   "source": [
    "from IPython.display import YouTubeVideo\n",
    "YouTubeVideo(\"bxtLxUh03gc\")"
   ]
  },
  {
   "cell_type": "markdown",
   "metadata": {},
   "source": [
    "## Ciencia reproducible\n",
    "\n",
    "Podemos subir el *notebook* a nuestro servido git preferido y luego con [nbviewer](https://nbviewer.jupyter.org/) renderizarlo para que alguien lo vea.\n",
    "\n",
    "Por ej, [este notebook](http://nbviewer.ipython.org/github/pewen/ten/blob/master/IPython_notebook/01_Puntos_aleatorios_en_esfera.ipynb)"
   ]
  },
  {
   "cell_type": "code",
   "execution_count": 6,
   "metadata": {
    "collapsed": false
   },
   "outputs": [
    {
     "data": {
      "text/html": [
       "<link href='http://fonts.googleapis.com/css?family=Alegreya+Sans:100,300,400,500,700,800,900,100italic,300italic,400italic,500italic,700italic,800italic,900italic' rel='stylesheet' type='text/css'>\n",
       "<link href='http://fonts.googleapis.com/css?family=Arvo:400,700,400italic' rel='stylesheet' type='text/css'>\n",
       "<link href='http://fonts.googleapis.com/css?family=PT+Mono' rel='stylesheet' type='text/css'>\n",
       "<link href='http://fonts.googleapis.com/css?family=Shadows+Into+Light' rel='stylesheet' type='text/css'>\n",
       "<link href='http://fonts.googleapis.com/css?family=Nixie+One' rel='stylesheet' type='text/css'>\n",
       "\n",
       "<style>\n",
       "@font-face {\n",
       "    font-family: \"Computer Modern\";\n",
       "    src: url('http://mirrors.ctan.org/fonts/cm-unicode/fonts/otf/cmunss.otf');\n",
       "}\n",
       "\n",
       "/* main background */\n",
       "#notebook_panel {\n",
       "    background: rgb(245,245,245);\n",
       "}\n",
       "\n",
       "/* centre the content */\n",
       "div #notebook {\n",
       "    background: #fff; /* white background for content */\n",
       "    width: 100%;\n",
       "    margin-right: 0px;\n",
       "    margin-left: 0px;\n",
       "    padding-left: 0em;\n",
       "}\n",
       "\n",
       "/* More space between bullet points */\n",
       "#notebook li {\n",
       "    margin-top:0.8em;\n",
       "}\n",
       "\n",
       "/* set cell width */\n",
       "div.cell {\n",
       "    width: 95%;\n",
       "}\n",
       "\n",
       "/* draw border around running cells */\n",
       "div.cell.border-box-sizing.code_cell.running {\n",
       "    border: 1px solid #111;\n",
       "}\n",
       "\n",
       "/* Put a solid color box around each cell and its output, \n",
       "   visually linking them*/\n",
       "div.cell.code_cell {\n",
       "    background-color: rgb(256,256,256);\n",
       "    border-radius: 0px;\n",
       "    padding: 0.5em;\n",
       "    margin-left:1em;\n",
       "    margin-top: 1em;\n",
       "}\n",
       "\n",
       "div.text_cell_render{\n",
       "    font-family: 'Alegreya Sans' sans-serif;\n",
       "    line-height: 140%;\n",
       "    font-size: 145%;\n",
       "    font-weight: 400;\n",
       "    margin-left:0px;\n",
       "    margin-right:0px;\n",
       "}\n",
       "\n",
       "/* Formatting for header cells */\n",
       ".text_cell_render h1 {\n",
       "    font-family: 'Nixie One', serif;\n",
       "    font-style:regular;\n",
       "    font-weight: 400;\n",
       "    font-size: 45pt;\n",
       "    line-height: 100%;\n",
       "    color: rgb(0,51,102);\n",
       "    margin-bottom: 0.5em;\n",
       "    margin-top: 0.5em;\n",
       "    display: block;\n",
       "}\n",
       "\n",
       ".text_cell_render h2 {\n",
       "    font-family: 'Nixie One', serif;\n",
       "    font-weight: 400;\n",
       "    font-size: 30pt;\n",
       "    line-height: 100%;\n",
       "    color: rgb(0,51,102);\n",
       "    margin-bottom: 0.1em;\n",
       "    margin-top: 0.3em;\n",
       "    display: block;\n",
       "}\n",
       "\n",
       ".text_cell_render h3 {\n",
       "    font-family: 'Nixie One', serif;\n",
       "    margin-top:16px;\n",
       "    font-size: 22pt;\n",
       "    font-weight: 600;\n",
       "    margin-bottom: 3px;\n",
       "    font-style: regular;\n",
       "    color: rgb(102,102,0);\n",
       "}\n",
       "\n",
       ".text_cell_render h4 { /*Use this for captions*/\n",
       "    font-family: 'Nixie One', serif;\n",
       "    font-size: 14pt;\n",
       "    text-align: center;\n",
       "    margin-top: 0em;\n",
       "    margin-bottom: 2em;\n",
       "    font-style: regular;\n",
       "}\n",
       "\n",
       ".text_cell_render h5 { /*Use this for small titles*/\n",
       "    font-family: 'Nixie One', sans-serif;\n",
       "    font-weight: 400;\n",
       "    font-size: 16pt;\n",
       "    color: rgb(163,0,0);\n",
       "    font-style: italic;\n",
       "    margin-bottom: .1em;\n",
       "    margin-top: 0.8em;\n",
       "    display: block;\n",
       "}\n",
       "\n",
       ".text_cell_render h6 { /*use this for copyright note*/\n",
       "    font-family: 'PT Mono', sans-serif;\n",
       "    font-weight: 300;\n",
       "    font-size: 9pt;\n",
       "    line-height: 100%;\n",
       "    color: grey;\n",
       "    margin-bottom: 1px;\n",
       "    margin-top: 1px;\n",
       "}\n",
       "\n",
       ".CodeMirror{\n",
       "    font-family: \"PT Mono\";\n",
       "    font-size: 100%;\n",
       "}\n",
       "\n",
       "</style>\n",
       "\n",
       "<script type=\"text/x-mathjax-config\">\n",
       "MathJax.Hub.Config({\n",
       "\t\t      TeX: {\n",
       "\t\t      extensions: [\"AMSmath.js\"],\n",
       "\t\t      equationNumbers: { autoNumber: \"AMS\", useLabelIds: true}\n",
       "\t\t  },\n",
       "\t\t      tex2jax: {\n",
       "\t\t\t  inlineMath: [ ['$','$'], [\"\\\\(\",\"\\\\)\"] ],\n",
       "\t\t\t  displayMath: [ ['$$','$$'], [\"\\\\[\",\"\\\\]\"] ],\n",
       "\t\t\t  processEscapes: true,\n",
       "\t\t\t  processEnvironments: true\n",
       "\t\t      },\n",
       "\t\t      displayAlign: 'center',\n",
       "\t\t      \"HTML-CSS\": {\n",
       "\t\t\t  styles: {'.MathJax_Display': {\"margin\": 4}}\n",
       "\t\t      }\n",
       "\t\t  });\n",
       "</script>"
      ],
      "text/plain": [
       "<IPython.core.display.HTML object>"
      ]
     },
     "execution_count": 6,
     "metadata": {},
     "output_type": "execute_result"
    }
   ],
   "source": [
    "#Este css es trabajo de @LorenaABarba y su grupo\n",
    "from IPython.core.display import HTML\n",
    "css_file = '../css/personal.css'\n",
    "HTML(open(css_file, \"r\").read())"
   ]
  },
  {
   "cell_type": "markdown",
   "metadata": {},
   "source": [
    "##### Licencia\n",
    "\n",
    "El código esta licenciado bajo MIT.\n",
    "\n",
    "La documentación bajo:\n",
    "\n",
    "<a rel=\"license\" href=\"http://creativecommons.org/licenses/by/4.0/\"><img alt=\"Creative Commons License\" style=\"border-width:0\" src=\"https://i.creativecommons.org/l/by/4.0/88x31.png\" /></a><br />This work is licensed under a <a rel=\"license\" href=\"http://creativecommons.org/licenses/by/4.0/\">Creative Commons Attribution 4.0 International License</a>."
   ]
  }
 ],
 "metadata": {
  "kernelspec": {
   "display_name": "Python 3",
   "language": "python",
   "name": "python3"
  },
  "language_info": {
   "codemirror_mode": {
    "name": "ipython",
    "version": 3
   },
   "file_extension": ".py",
   "mimetype": "text/x-python",
   "name": "python",
   "nbconvert_exporter": "python",
   "pygments_lexer": "ipython3",
   "version": "3.5.2"
  }
 },
 "nbformat": 4,
 "nbformat_minor": 0
}
